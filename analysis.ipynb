{
 "cells": [
  {
   "cell_type": "code",
   "execution_count": 1,
   "metadata": {},
   "outputs": [],
   "source": [
    "from collections import defaultdict\n",
    "from glob import glob\n",
    "import os\n",
    "\n",
    "import numpy as np\n",
    "import pandas as pd"
   ]
  },
  {
   "cell_type": "code",
   "execution_count": 2,
   "metadata": {},
   "outputs": [],
   "source": [
    "import matplotlib.pyplot as plt\n",
    "from matplotlib.colors import SymLogNorm\n",
    "\n",
    "import seaborn as sns\n",
    "\n",
    "plt.style.use('seaborn-white')\n",
    "import matplotlib as mpl\n",
    "from matplotlib import gridspec\n",
    "\n",
    "mpl.rcParams['pdf.fonttype'] = 42\n",
    "mpl.rcParams['ps.fonttype'] = 42"
   ]
  },
  {
   "cell_type": "markdown",
   "metadata": {},
   "source": [
    "Load data"
   ]
  },
  {
   "cell_type": "code",
   "execution_count": 3,
   "metadata": {},
   "outputs": [],
   "source": [
    "DATA_DIR = './tutorial-data'\n",
    "\n",
    "SEI_DIR = os.path.join(DATA_DIR, 'sei_data')\n",
    "PREDICTIONS_DIR = os.path.join(DATA_DIR, '1000G_EUR_Phase3')\n",
    "GENE_DATA = os.path.join(DATA_DIR, 'gene_information')\n",
    "\n",
    "SUMSTATS_FILE = os.path.join(DATA_DIR, 'BreastCancer_Michailidou_Nature_2017.sumstats.gz')\n",
    "\n",
    "NB_OUT = os.path.join(DATA_DIR, 'nb_outputs')\n",
    "HB_OUT = os.path.join(DATA_DIR, 'hb_outputs')"
   ]
  },
  {
   "cell_type": "markdown",
   "metadata": {},
   "source": [
    "Breast cancer summary statistics file, from [Michailidou et al. (2017)](https://www.nature.com/articles/nature24284) paper. "
   ]
  },
  {
   "cell_type": "code",
   "execution_count": 4,
   "metadata": {},
   "outputs": [
    {
     "data": {
      "text/html": [
       "<div>\n",
       "<style scoped>\n",
       "    .dataframe tbody tr th:only-of-type {\n",
       "        vertical-align: middle;\n",
       "    }\n",
       "\n",
       "    .dataframe tbody tr th {\n",
       "        vertical-align: top;\n",
       "    }\n",
       "\n",
       "    .dataframe thead th {\n",
       "        text-align: right;\n",
       "    }\n",
       "</style>\n",
       "<table border=\"1\" class=\"dataframe\">\n",
       "  <thead>\n",
       "    <tr style=\"text-align: right;\">\n",
       "      <th></th>\n",
       "      <th>A1</th>\n",
       "      <th>A2</th>\n",
       "      <th>Z</th>\n",
       "      <th>N</th>\n",
       "    </tr>\n",
       "    <tr>\n",
       "      <th>SNP</th>\n",
       "      <th></th>\n",
       "      <th></th>\n",
       "      <th></th>\n",
       "      <th></th>\n",
       "    </tr>\n",
       "  </thead>\n",
       "  <tbody>\n",
       "    <tr>\n",
       "      <th>rs201725126</th>\n",
       "      <td>T</td>\n",
       "      <td>G</td>\n",
       "      <td>0.503</td>\n",
       "      <td>228951.0</td>\n",
       "    </tr>\n",
       "    <tr>\n",
       "      <th>rs200579949</th>\n",
       "      <td>A</td>\n",
       "      <td>G</td>\n",
       "      <td>0.503</td>\n",
       "      <td>228951.0</td>\n",
       "    </tr>\n",
       "    <tr>\n",
       "      <th>rs75454623</th>\n",
       "      <td>A</td>\n",
       "      <td>G</td>\n",
       "      <td>-1.043</td>\n",
       "      <td>228951.0</td>\n",
       "    </tr>\n",
       "    <tr>\n",
       "      <th>rs199856693</th>\n",
       "      <td>G</td>\n",
       "      <td>A</td>\n",
       "      <td>0.443</td>\n",
       "      <td>228951.0</td>\n",
       "    </tr>\n",
       "    <tr>\n",
       "      <th>rs78601809</th>\n",
       "      <td>T</td>\n",
       "      <td>G</td>\n",
       "      <td>0.407</td>\n",
       "      <td>228951.0</td>\n",
       "    </tr>\n",
       "  </tbody>\n",
       "</table>\n",
       "</div>"
      ],
      "text/plain": [
       "            A1 A2      Z         N\n",
       "SNP                               \n",
       "rs201725126  T  G  0.503  228951.0\n",
       "rs200579949  A  G  0.503  228951.0\n",
       "rs75454623   A  G -1.043  228951.0\n",
       "rs199856693  G  A  0.443  228951.0\n",
       "rs78601809   T  G  0.407  228951.0"
      ]
     },
     "execution_count": 4,
     "metadata": {},
     "output_type": "execute_result"
    }
   ],
   "source": [
    "sumstats_df = pd.read_csv(SUMSTATS_FILE, sep='\\t')\n",
    "sumstats_df.set_index(['SNP'], inplace=True)\n",
    "sumstats_df.head()"
   ]
  },
  {
   "cell_type": "code",
   "execution_count": 5,
   "metadata": {},
   "outputs": [
    {
     "data": {
      "text/plain": [
       "8191810"
      ]
     },
     "execution_count": 5,
     "metadata": {},
     "output_type": "execute_result"
    }
   ],
   "source": [
    "snps = sumstats_df.index.tolist()\n",
    "len(snps)"
   ]
  },
  {
   "cell_type": "markdown",
   "metadata": {},
   "source": [
    "Load the corresponding Sei predictions for these variants"
   ]
  },
  {
   "cell_type": "code",
   "execution_count": 7,
   "metadata": {},
   "outputs": [
    {
     "name": "stdout",
     "output_type": "stream",
     "text": [
      "1.1000G.EUR.QC.vcf.swap\n",
      "10.1000G.EUR.QC.vcf.swap\n",
      "11.1000G.EUR.QC.vcf.swap\n",
      "12.1000G.EUR.QC.vcf.swap\n",
      "13.1000G.EUR.QC.vcf.swap\n",
      "14.1000G.EUR.QC.vcf.swap\n",
      "15.1000G.EUR.QC.vcf.swap\n",
      "16.1000G.EUR.QC.vcf.swap\n",
      "17.1000G.EUR.QC.vcf.swap\n",
      "18.1000G.EUR.QC.vcf.swap\n",
      "19.1000G.EUR.QC.vcf.swap\n",
      "2.1000G.EUR.QC.vcf.swap\n",
      "20.1000G.EUR.QC.vcf.swap\n",
      "21.1000G.EUR.QC.vcf.swap\n",
      "22.1000G.EUR.QC.vcf.swap\n",
      "3.1000G.EUR.QC.vcf.swap\n",
      "4.1000G.EUR.QC.vcf.swap\n",
      "5.1000G.EUR.QC.vcf.swap\n",
      "6.1000G.EUR.QC.vcf.swap\n",
      "7.1000G.EUR.QC.vcf.swap\n",
      "8.1000G.EUR.QC.vcf.swap\n",
      "9.1000G.EUR.QC.vcf.swap\n"
     ]
    }
   ],
   "source": [
    "def _add_chr17(mat):\n",
    "    use_mat = np.zeros(\n",
    "        (mat.shape[0] + 7, mat.shape[1]))\n",
    "    use_mat[7:, :] = mat\n",
    "    return use_mat[:, :]\n",
    "\n",
    "rowlabels = []\n",
    "zscores = []\n",
    "sei_scores = []\n",
    "for fp in sorted(glob(os.path.join(PREDICTIONS_DIR, 'vcfs', '*.vcf'))):\n",
    "    fn = os.path.basename(fp).rsplit('.', 1)[0]\n",
    "    print(fn)\n",
    "    tag = fn.split('.')[0]\n",
    "    score_fn = '{0}.ref_predictions.h5.diffs.npy'.format(fn)\n",
    "    \n",
    "    df = pd.read_csv(fp, sep='\\t', header=None)\n",
    "    ixs = np.arange(len(df))\n",
    "        \n",
    "    df['ix'] = ixs\n",
    "    df.set_index([2], inplace=True)\n",
    "    subset_df = df.loc[df.index.intersection(snps)]\n",
    "    subset_ixs = subset_df['ix'].tolist()\n",
    "\n",
    "    sumstats_z = sumstats_df.loc[subset_df.index.tolist()]\n",
    "    subset_zscores = sumstats_z['Z'].tolist()\n",
    "\n",
    "    sc_scores = np.load(os.path.join(\n",
    "        PREDICTIONS_DIR, 'sequence_class_scores', score_fn))\n",
    "    \n",
    "    if tag == '17':\n",
    "        sc_scores = _add_chr17(sc_scores)\n",
    "    \n",
    "    rowlabels.append(subset_df)\n",
    "    zscores.append(subset_zscores)\n",
    "    sei_scores.append(sc_scores[subset_ixs])\n",
    "    \n",
    "rowlabels = pd.concat(rowlabels)\n",
    "zscores = np.hstack(zscores)\n",
    "sei_scores = np.vstack(sei_scores)"
   ]
  },
  {
   "cell_type": "code",
   "execution_count": 8,
   "metadata": {},
   "outputs": [
    {
     "data": {
      "text/html": [
       "<div>\n",
       "<style scoped>\n",
       "    .dataframe tbody tr th:only-of-type {\n",
       "        vertical-align: middle;\n",
       "    }\n",
       "\n",
       "    .dataframe tbody tr th {\n",
       "        vertical-align: top;\n",
       "    }\n",
       "\n",
       "    .dataframe thead th {\n",
       "        text-align: right;\n",
       "    }\n",
       "</style>\n",
       "<table border=\"1\" class=\"dataframe\">\n",
       "  <thead>\n",
       "    <tr style=\"text-align: right;\">\n",
       "      <th></th>\n",
       "      <th>chrom</th>\n",
       "      <th>pos</th>\n",
       "      <th>ref</th>\n",
       "      <th>alt</th>\n",
       "      <th>ix</th>\n",
       "    </tr>\n",
       "  </thead>\n",
       "  <tbody>\n",
       "    <tr>\n",
       "      <th>rs200579949</th>\n",
       "      <td>1</td>\n",
       "      <td>13118</td>\n",
       "      <td>A</td>\n",
       "      <td>G</td>\n",
       "      <td>0</td>\n",
       "    </tr>\n",
       "    <tr>\n",
       "      <th>rs199856693</th>\n",
       "      <td>1</td>\n",
       "      <td>14933</td>\n",
       "      <td>G</td>\n",
       "      <td>A</td>\n",
       "      <td>1</td>\n",
       "    </tr>\n",
       "    <tr>\n",
       "      <th>rs374029747</th>\n",
       "      <td>1</td>\n",
       "      <td>15774</td>\n",
       "      <td>G</td>\n",
       "      <td>A</td>\n",
       "      <td>2</td>\n",
       "    </tr>\n",
       "    <tr>\n",
       "      <th>rs199745162</th>\n",
       "      <td>1</td>\n",
       "      <td>16949</td>\n",
       "      <td>A</td>\n",
       "      <td>C</td>\n",
       "      <td>3</td>\n",
       "    </tr>\n",
       "    <tr>\n",
       "      <th>rs141149254</th>\n",
       "      <td>1</td>\n",
       "      <td>54490</td>\n",
       "      <td>G</td>\n",
       "      <td>A</td>\n",
       "      <td>4</td>\n",
       "    </tr>\n",
       "  </tbody>\n",
       "</table>\n",
       "</div>"
      ],
      "text/plain": [
       "             chrom    pos ref alt  ix\n",
       "rs200579949      1  13118   A   G   0\n",
       "rs199856693      1  14933   G   A   1\n",
       "rs374029747      1  15774   G   A   2\n",
       "rs199745162      1  16949   A   C   3\n",
       "rs141149254      1  54490   G   A   4"
      ]
     },
     "execution_count": 8,
     "metadata": {},
     "output_type": "execute_result"
    }
   ],
   "source": [
    "rowlabels['ix'] = list(range(len(rowlabels)))\n",
    "rowlabels.columns = ['chrom', 'pos', 'ref', 'alt', 'ix']\n",
    "rowlabels.head()"
   ]
  },
  {
   "cell_type": "markdown",
   "metadata": {},
   "source": [
    "Saved to the following paths (for ease of loading the data again at a later point in time)"
   ]
  },
  {
   "cell_type": "code",
   "execution_count": 10,
   "metadata": {},
   "outputs": [],
   "source": [
    "#np.save(os.path.join(NB_OUT, 'brca_gwas.zscores.npy'), zscores)\n",
    "#np.save(os.path.join(NB_OUT, 'brca_gwas.sei_scores.npy'), sei_scores)\n",
    "#rowlabels.to_csv(os.path.join(NB_OUT, 'brca_gwas.rowlabels.tsv'), sep='\\t')"
   ]
  },
  {
   "cell_type": "code",
   "execution_count": 11,
   "metadata": {},
   "outputs": [],
   "source": [
    "#rowlabels = pd.read_csv(os.path.join(NB_OUT, 'brca_gwas.rowlabels.tsv'), sep='\\t')\n",
    "#zscores = np.load(os.path.join(NB_OUT, 'brca_gwas.zscores.npy'))\n",
    "#sei_scores = np.load(os.path.join(NB_OUT, 'brca_gwas.sei_scores.npy'))"
   ]
  },
  {
   "cell_type": "code",
   "execution_count": 12,
   "metadata": {},
   "outputs": [],
   "source": [
    "with open(os.path.join(NB_OUT, 'brca_gwas_snps.bed'), 'w+') as fh:\n",
    "    for row in rowlabels.itertuples():\n",
    "        chrom = 'chr{0}'.format(row.chrom)\n",
    "        s = row.pos\n",
    "        e = row.pos + 1\n",
    "        vid = '{0}_{1}_{2}_{3}_{4}'.format(row.chrom, row.pos, row.ref, row.alt, row.ix)\n",
    "        fh.write('{0}\\t{1}\\t{2}\\t{3}\\n'.format(\n",
    "            chrom, s, e, vid))"
   ]
  },
  {
   "cell_type": "code",
   "execution_count": 14,
   "metadata": {},
   "outputs": [],
   "source": [
    "ix_to_variant = {}\n",
    "variant_to_ix = {}\n",
    "for row in rowlabels.itertuples():\n",
    "    ix_to_variant[row.ix] = (row.chrom, row.pos, row.ref, row.alt, row.Index)\n",
    "    variant_to_ix[(row.chrom, row.pos, row.ref, row.alt)] = row.ix"
   ]
  },
  {
   "cell_type": "markdown",
   "metadata": {},
   "source": [
    "This is a good time to look into a tool called [`bedtools`](https://bedtools.readthedocs.io/en/latest/). We will use bedtools to pull different genome annotation information into our analysis.\n",
    "\n",
    "It can be installed in your conda environment:\n",
    "\n",
    "```\n",
    "conda install -c bioconda bedtools\n",
    "```\n",
    "\n",
    "We provide a number of annotations for you. For example, we generated `brca_gwas_snps.sc_annot.bed` by running\n",
    "\n",
    "```\n",
    "cd ./tutorial-data/nb_outputs\n",
    "\n",
    "sort -k1,1 -k2,2n brca_gwas_snps.bed > sort.brca_gwas_snps.bed\n",
    "\n",
    "bedtools intersect -a ./sort.brca_gwas_snps.bed -b ../sei_data/sc_annotation.bed -wa -wb > brca_gwas_snps.sc_annot.bed\n",
    "```"
   ]
  },
  {
   "cell_type": "code",
   "execution_count": 15,
   "metadata": {},
   "outputs": [
    {
     "data": {
      "text/html": [
       "<div>\n",
       "<style scoped>\n",
       "    .dataframe tbody tr th:only-of-type {\n",
       "        vertical-align: middle;\n",
       "    }\n",
       "\n",
       "    .dataframe tbody tr th {\n",
       "        vertical-align: top;\n",
       "    }\n",
       "\n",
       "    .dataframe thead th {\n",
       "        text-align: right;\n",
       "    }\n",
       "</style>\n",
       "<table border=\"1\" class=\"dataframe\">\n",
       "  <thead>\n",
       "    <tr style=\"text-align: right;\">\n",
       "      <th></th>\n",
       "      <th>0</th>\n",
       "      <th>1</th>\n",
       "      <th>2</th>\n",
       "      <th>3</th>\n",
       "      <th>4</th>\n",
       "      <th>5</th>\n",
       "      <th>6</th>\n",
       "      <th>7</th>\n",
       "    </tr>\n",
       "  </thead>\n",
       "  <tbody>\n",
       "    <tr>\n",
       "      <th>0</th>\n",
       "      <td>chr1</td>\n",
       "      <td>13118</td>\n",
       "      <td>13119</td>\n",
       "      <td>1_13118_A_G_0</td>\n",
       "      <td>chr1</td>\n",
       "      <td>12151</td>\n",
       "      <td>13650</td>\n",
       "      <td>0</td>\n",
       "    </tr>\n",
       "    <tr>\n",
       "      <th>1</th>\n",
       "      <td>chr1</td>\n",
       "      <td>14933</td>\n",
       "      <td>14934</td>\n",
       "      <td>1_14933_G_A_1</td>\n",
       "      <td>chr1</td>\n",
       "      <td>14451</td>\n",
       "      <td>15450</td>\n",
       "      <td>0</td>\n",
       "    </tr>\n",
       "    <tr>\n",
       "      <th>2</th>\n",
       "      <td>chr1</td>\n",
       "      <td>15774</td>\n",
       "      <td>15775</td>\n",
       "      <td>1_15774_G_A_2</td>\n",
       "      <td>chr1</td>\n",
       "      <td>15451</td>\n",
       "      <td>15850</td>\n",
       "      <td>27</td>\n",
       "    </tr>\n",
       "    <tr>\n",
       "      <th>3</th>\n",
       "      <td>chr1</td>\n",
       "      <td>16949</td>\n",
       "      <td>16950</td>\n",
       "      <td>1_16949_A_C_3</td>\n",
       "      <td>chr1</td>\n",
       "      <td>16851</td>\n",
       "      <td>16950</td>\n",
       "      <td>2</td>\n",
       "    </tr>\n",
       "    <tr>\n",
       "      <th>4</th>\n",
       "      <td>chr1</td>\n",
       "      <td>54490</td>\n",
       "      <td>54491</td>\n",
       "      <td>1_54490_G_A_4</td>\n",
       "      <td>chr1</td>\n",
       "      <td>54351</td>\n",
       "      <td>54650</td>\n",
       "      <td>24</td>\n",
       "    </tr>\n",
       "  </tbody>\n",
       "</table>\n",
       "</div>"
      ],
      "text/plain": [
       "      0      1      2              3     4      5      6   7\n",
       "0  chr1  13118  13119  1_13118_A_G_0  chr1  12151  13650   0\n",
       "1  chr1  14933  14934  1_14933_G_A_1  chr1  14451  15450   0\n",
       "2  chr1  15774  15775  1_15774_G_A_2  chr1  15451  15850  27\n",
       "3  chr1  16949  16950  1_16949_A_C_3  chr1  16851  16950   2\n",
       "4  chr1  54490  54491  1_54490_G_A_4  chr1  54351  54650  24"
      ]
     },
     "execution_count": 15,
     "metadata": {},
     "output_type": "execute_result"
    }
   ],
   "source": [
    "sc_df = pd.read_csv(os.path.join(NB_OUT, 'brca_gwas_snps.sc_annot.bed'), sep='\\t', header=None)\n",
    "sc_df.head()"
   ]
  },
  {
   "cell_type": "markdown",
   "metadata": {},
   "source": [
    "map the variant to the sequence class annotation"
   ]
  },
  {
   "cell_type": "code",
   "execution_count": 16,
   "metadata": {},
   "outputs": [],
   "source": [
    "variant_sc = {}\n",
    "for row in sc_df.itertuples():\n",
    "    chrom, pos, ref, alt, _ = row._4.split('_')\n",
    "    variant_sc[(int(chrom), int(pos), ref, alt)] = row._8"
   ]
  },
  {
   "cell_type": "markdown",
   "metadata": {},
   "source": [
    "you can then use this information to summarize the matrix of Sei sequence class scores we have into single vectors of data:"
   ]
  },
  {
   "cell_type": "code",
   "execution_count": 17,
   "metadata": {},
   "outputs": [],
   "source": [
    "scores_vec = []\n",
    "sc_annotvec = []\n",
    "variant_labels = []\n",
    "for ix, row in enumerate(sei_scores):\n",
    "    (chrom, pos, ref, alt, rsid) = ix_to_variant[ix]\n",
    "    vid = (chrom, pos, ref, alt)\n",
    "    variant_labels.append(vid)\n",
    "    if vid not in variant_sc:\n",
    "        sc_annotvec.append(-1)\n",
    "        rix = np.argmax(np.abs(row))\n",
    "        scores_vec.append(row[rix])\n",
    "    else:\n",
    "        sc = variant_sc[vid]\n",
    "        sc_annotvec.append(sc)\n",
    "        scores_vec.append(row[sc])"
   ]
  },
  {
   "cell_type": "code",
   "execution_count": 18,
   "metadata": {},
   "outputs": [],
   "source": [
    "scores_vec = np.array(scores_vec)\n",
    "sc_annotvec = np.array(sc_annotvec)"
   ]
  },
  {
   "cell_type": "markdown",
   "metadata": {},
   "source": [
    "This is a good time to experiment with the data at the variant-level! Summarize, filter, slice/dice the information, make some visualizations, etc."
   ]
  },
  {
   "cell_type": "code",
   "execution_count": null,
   "metadata": {},
   "outputs": [],
   "source": [
    "# TODO MORE CODE HERE"
   ]
  },
  {
   "cell_type": "markdown",
   "metadata": {},
   "source": [
    "Once the variants have been prioritized based on their predicted functional impact, it is useful to then map those variants to the genes they may affect. If we know what genes are affected by these mutations, we can get a sense of what biological pathways may be dysregulated. We might ask if these pathways seem cancer-relevant or not.\n",
    "\n",
    "Below we've included some BED files with gene mappings:\n",
    "\n",
    "- `pcHiC.oes_geneanno.hg19.bed` contains promoter-capture Hi-C mappings from [Javierre et al. (2016)](https://doi.org/10.1016/j.cell.2016.09.037). \n",
    "- `geneanno.hg19.bed` contains the closest gene mapping based on FANTOM CAGE transcription start site (TSS) coordinates\n",
    "\n",
    "`pcHiC.oes_geneanno.hg19.bed` doesn't have full coverage of variant -> gene coordinates, so you can first map variants with promoter-capture Hi-C data to the appropriate gene(s) and then use the closest gene for the rest."
   ]
  },
  {
   "cell_type": "code",
   "execution_count": 19,
   "metadata": {},
   "outputs": [
    {
     "data": {
      "text/html": [
       "<div>\n",
       "<style scoped>\n",
       "    .dataframe tbody tr th:only-of-type {\n",
       "        vertical-align: middle;\n",
       "    }\n",
       "\n",
       "    .dataframe tbody tr th {\n",
       "        vertical-align: top;\n",
       "    }\n",
       "\n",
       "    .dataframe thead th {\n",
       "        text-align: right;\n",
       "    }\n",
       "</style>\n",
       "<table border=\"1\" class=\"dataframe\">\n",
       "  <thead>\n",
       "    <tr style=\"text-align: right;\">\n",
       "      <th></th>\n",
       "      <th>0</th>\n",
       "      <th>1</th>\n",
       "      <th>2</th>\n",
       "      <th>3</th>\n",
       "      <th>4</th>\n",
       "      <th>5</th>\n",
       "    </tr>\n",
       "  </thead>\n",
       "  <tbody>\n",
       "    <tr>\n",
       "      <th>0</th>\n",
       "      <td>chr1</td>\n",
       "      <td>82860</td>\n",
       "      <td>84549</td>\n",
       "      <td>20</td>\n",
       "      <td>.</td>\n",
       "      <td>RP11-396F22.1;CPNE8</td>\n",
       "    </tr>\n",
       "    <tr>\n",
       "      <th>1</th>\n",
       "      <td>chr1</td>\n",
       "      <td>90820</td>\n",
       "      <td>92086</td>\n",
       "      <td>23</td>\n",
       "      <td>.</td>\n",
       "      <td>AC069287.1;ODF3;PRDM7;RP11-304M2.5;SCGB1C1</td>\n",
       "    </tr>\n",
       "    <tr>\n",
       "      <th>2</th>\n",
       "      <td>chr1</td>\n",
       "      <td>759752</td>\n",
       "      <td>761673</td>\n",
       "      <td>197</td>\n",
       "      <td>.</td>\n",
       "      <td>TBP;PSMB1</td>\n",
       "    </tr>\n",
       "    <tr>\n",
       "      <th>3</th>\n",
       "      <td>chr1</td>\n",
       "      <td>772248</td>\n",
       "      <td>774390</td>\n",
       "      <td>199</td>\n",
       "      <td>.</td>\n",
       "      <td>RP11-63E5.6</td>\n",
       "    </tr>\n",
       "    <tr>\n",
       "      <th>4</th>\n",
       "      <td>chr1</td>\n",
       "      <td>831395</td>\n",
       "      <td>848668</td>\n",
       "      <td>218</td>\n",
       "      <td>RP11-54O7.16;RP11-54O7.1</td>\n",
       "      <td>AL645608.1;SAMD11;RP11-54O7.3</td>\n",
       "    </tr>\n",
       "  </tbody>\n",
       "</table>\n",
       "</div>"
      ],
      "text/plain": [
       "      0       1       2    3                         4  \\\n",
       "0  chr1   82860   84549   20                         .   \n",
       "1  chr1   90820   92086   23                         .   \n",
       "2  chr1  759752  761673  197                         .   \n",
       "3  chr1  772248  774390  199                         .   \n",
       "4  chr1  831395  848668  218  RP11-54O7.16;RP11-54O7.1   \n",
       "\n",
       "                                            5  \n",
       "0                         RP11-396F22.1;CPNE8  \n",
       "1  AC069287.1;ODF3;PRDM7;RP11-304M2.5;SCGB1C1  \n",
       "2                                   TBP;PSMB1  \n",
       "3                                 RP11-63E5.6  \n",
       "4               AL645608.1;SAMD11;RP11-54O7.3  "
      ]
     },
     "execution_count": 19,
     "metadata": {},
     "output_type": "execute_result"
    }
   ],
   "source": [
    "pchic_df = pd.read_csv(os.path.join(\n",
    "    GENE_DATA, 'pcHiC.oes_geneanno.hg19.bed'), sep='\\t', header=None)\n",
    "pchic_df.head()"
   ]
  },
  {
   "cell_type": "code",
   "execution_count": 20,
   "metadata": {},
   "outputs": [
    {
     "data": {
      "text/html": [
       "<div>\n",
       "<style scoped>\n",
       "    .dataframe tbody tr th:only-of-type {\n",
       "        vertical-align: middle;\n",
       "    }\n",
       "\n",
       "    .dataframe tbody tr th {\n",
       "        vertical-align: top;\n",
       "    }\n",
       "\n",
       "    .dataframe thead th {\n",
       "        text-align: right;\n",
       "    }\n",
       "</style>\n",
       "<table border=\"1\" class=\"dataframe\">\n",
       "  <thead>\n",
       "    <tr style=\"text-align: right;\">\n",
       "      <th></th>\n",
       "      <th>0</th>\n",
       "      <th>1</th>\n",
       "      <th>2</th>\n",
       "      <th>3</th>\n",
       "      <th>4</th>\n",
       "      <th>5</th>\n",
       "    </tr>\n",
       "  </thead>\n",
       "  <tbody>\n",
       "    <tr>\n",
       "      <th>0</th>\n",
       "      <td>chr1</td>\n",
       "      <td>29554</td>\n",
       "      <td>29555</td>\n",
       "      <td>RP11-34P13.3</td>\n",
       "      <td>ENSG00000243485</td>\n",
       "      <td>+</td>\n",
       "    </tr>\n",
       "    <tr>\n",
       "      <th>1</th>\n",
       "      <td>chr1</td>\n",
       "      <td>36081</td>\n",
       "      <td>36082</td>\n",
       "      <td>FAM138A</td>\n",
       "      <td>ENSG00000237613</td>\n",
       "      <td>-</td>\n",
       "    </tr>\n",
       "    <tr>\n",
       "      <th>2</th>\n",
       "      <td>chr1</td>\n",
       "      <td>69091</td>\n",
       "      <td>69092</td>\n",
       "      <td>OR4F5</td>\n",
       "      <td>ENSG00000186092</td>\n",
       "      <td>+</td>\n",
       "    </tr>\n",
       "    <tr>\n",
       "      <th>3</th>\n",
       "      <td>chr1</td>\n",
       "      <td>133723</td>\n",
       "      <td>133724</td>\n",
       "      <td>RP11-34P13.7</td>\n",
       "      <td>ENSG00000238009</td>\n",
       "      <td>-</td>\n",
       "    </tr>\n",
       "    <tr>\n",
       "      <th>4</th>\n",
       "      <td>chr1</td>\n",
       "      <td>139379</td>\n",
       "      <td>139380</td>\n",
       "      <td>AL627309.1</td>\n",
       "      <td>ENSG00000237683</td>\n",
       "      <td>-</td>\n",
       "    </tr>\n",
       "  </tbody>\n",
       "</table>\n",
       "</div>"
      ],
      "text/plain": [
       "      0       1       2             3                4  5\n",
       "0  chr1   29554   29555  RP11-34P13.3  ENSG00000243485  +\n",
       "1  chr1   36081   36082       FAM138A  ENSG00000237613  -\n",
       "2  chr1   69091   69092         OR4F5  ENSG00000186092  +\n",
       "3  chr1  133723  133724  RP11-34P13.7  ENSG00000238009  -\n",
       "4  chr1  139379  139380    AL627309.1  ENSG00000237683  -"
      ]
     },
     "execution_count": 20,
     "metadata": {},
     "output_type": "execute_result"
    }
   ],
   "source": [
    "closest_genes_df = pd.read_csv(os.path.join(\n",
    "    GENE_DATA, 'geneanno.hg19.bed'), sep='\\t', header=None)\n",
    "closest_genes_df.head()"
   ]
  },
  {
   "cell_type": "code",
   "execution_count": null,
   "metadata": {},
   "outputs": [],
   "source": [
    "# TODO MORE CODE HERE"
   ]
  },
  {
   "cell_type": "markdown",
   "metadata": {},
   "source": [
    "Once you have the closest gene assignments, try running [module detection at HumanBase](https://hb.flatironinstitute.org/module/) to see what pathways are impacted by these genes!"
   ]
  },
  {
   "cell_type": "code",
   "execution_count": null,
   "metadata": {},
   "outputs": [],
   "source": [
    "# TODO MORE CODE HERE AS NEEDED"
   ]
  }
 ],
 "metadata": {
  "kernelspec": {
   "display_name": "Python [conda env:mbt-envj] *",
   "language": "python",
   "name": "conda-env-mbt-envj-py"
  },
  "language_info": {
   "codemirror_mode": {
    "name": "ipython",
    "version": 3
   },
   "file_extension": ".py",
   "mimetype": "text/x-python",
   "name": "python",
   "nbconvert_exporter": "python",
   "pygments_lexer": "ipython3",
   "version": "3.6.3"
  }
 },
 "nbformat": 4,
 "nbformat_minor": 2
}
